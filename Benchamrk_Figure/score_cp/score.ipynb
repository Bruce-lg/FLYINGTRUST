{
 "cells": [
  {
   "cell_type": "code",
   "execution_count": 38,
   "id": "224dcc31",
   "metadata": {},
   "outputs": [],
   "source": [
    "import numpy as np\n",
    "import pandas as pd\n",
    "import matplotlib as mpl\n",
    "import matplotlib.pyplot  as plt\n",
    "import re\n",
    "import seaborn as sns\n",
    "from matplotlib.colors import LinearSegmentedColormap\n",
    "from sklearn.utils import resample"
   ]
  },
  {
   "cell_type": "code",
   "execution_count": null,
   "id": "10341bbd",
   "metadata": {},
   "outputs": [],
   "source": [
    "# parameterisation\n",
    "classic_scene_weight = 1.2\n",
    "theory_scene_weight = 1.0\n",
    "real_UAV_weight = 1.5\n",
    "visual_UAV_weight = 1.0\n",
    "beta = 0.3"
   ]
  },
  {
   "cell_type": "code",
   "execution_count": null,
   "id": "3e806b73",
   "metadata": {},
   "outputs": [
    {
     "name": "stdout",
     "output_type": "stream",
     "text": [
      "                 max_vel=4m/s  Forest  Urban  Random-Angle  Narrow  \\\n",
      "0                0.55kg-UAV 1     0.1    0.2             0     0.1   \n",
      "1                 0.60kg-EMAX     0.1    0.2             0     0.1   \n",
      "2   0.68kg-Agile Autonomy DIY     0.1    0.2             0     0.1   \n",
      "3                0.75kg-UAV 2     0.1    0.2             0     0.1   \n",
      "4                0.85kg-UAV 3     0.1    0.2             0     0.1   \n",
      "5                 0.895kg-DJI     0.1    0.2             0     0.1   \n",
      "6                  0.90kg-DJI     0.1    0.2             0     0.1   \n",
      "7      0.98kg-EGO Planner DIY     0.1    0.2             0     0.1   \n",
      "8             1.00kg-SunnySky     0.1    0.2             0     0.1   \n",
      "9                1.05kg-UAV 4     0.1    0.2             0     0.1   \n",
      "10               1.20kg-UAV 5     0.1    0.2             0     0.1   \n",
      "11                1.20kg-JFRC     0.1    0.2             0     0.1   \n",
      "12                1.40kg-EMAX     0.1    0.2             0     0.1   \n",
      "13               1.50kg-UAV 6     0.1    0.2             0     0.1   \n",
      "14                 1.50kg-DJI     0.1    0.2             0     0.1   \n",
      "15               1.80kg-UAV 7     0.1    0.2             0     0.1   \n",
      "16            1.80kg-SunnySky     0.1    0.2             0     0.1   \n",
      "17               2.00kg-UAV 8     0.1    0.2             0     0.1   \n",
      "18             2.00kg-T-MOTOR     0.1    0.2             0     0.1   \n",
      "19               2.50kg-UAV 9     0.1    0.2             0     0.1   \n",
      "20                 2.50kg-HLY     0.1    0.2             0     0.1   \n",
      "21              2.80kg-UAV 10     0.1    0.2             0     0.1   \n",
      "22             2.80kg-T-MOTOR     0.1    0.2             0     0.1   \n",
      "23              3.00kg-UAV 11     0.1    0.2             0     0.1   \n",
      "24             3.00kg-T-MOTOR     0.1    0.2             0     0.1   \n",
      "25              3.50kg-UAV 12     0.1    0.2             0     0.1   \n",
      "26            3.50kg-SunnySky     0.1    0.2             0     0.1   \n",
      "27             3.80kg-T-MOTOR     0.1    0.2             0     0.1   \n",
      "28            4.00kg-SunnySky     0.1    0.2             0     0.1   \n",
      "29              4.20kg-UAV 13     0.1    0.2             0     0.1   \n",
      "30              4.50kg-UAV 14     0.1    0.2             0     0.1   \n",
      "31             4.50kg-T-MOTOR     0.1    0.2             0     0.1   \n",
      "32              4.80kg-UAV 15     0.1    0.2             0     0.1   \n",
      "33                 4.91kg-DJI     0.1    0.2             0     0.1   \n",
      "34              5.00kg-UAV 16     0.1    0.2             0     0.1   \n",
      "35                5.45kg-JFRC     0.1    0.2             0     0.1   \n",
      "\n",
      "    Sudden‑Drop  Maze  Perlin-Noise  \n",
      "0             0     0             0  \n",
      "1             0     0             0  \n",
      "2             0     0             0  \n",
      "3             0     0             0  \n",
      "4             0     0             0  \n",
      "5             0     0             0  \n",
      "6             0     0             0  \n",
      "7             0     0             0  \n",
      "8             0     0             0  \n",
      "9             0     0             0  \n",
      "10            0     0             0  \n",
      "11            0     0             0  \n",
      "12            0     0             0  \n",
      "13            0     0             0  \n",
      "14            0     0             0  \n",
      "15            0     0             0  \n",
      "16            0     0             0  \n",
      "17            0     0             0  \n",
      "18            0     0             0  \n",
      "19            0     0             0  \n",
      "20            0     0             0  \n",
      "21            0     0             0  \n",
      "22            0     0             0  \n",
      "23            0     0             0  \n",
      "24            0     0             0  \n",
      "25            0     0             0  \n",
      "26            0     0             0  \n",
      "27            0     0             0  \n",
      "28            0     0             0  \n",
      "29            0     0             0  \n",
      "30            0     0             0  \n",
      "31            0     0             0  \n",
      "32            0     0             0  \n",
      "33            0     0             0  \n",
      "34            0     0             0  \n",
      "35            0     0             0  \n"
     ]
    }
   ],
   "source": [
    "alo_name='Straight'\n",
    "file_path = 'Pre-treatment_'+alo_name+'_success_rate.xlsx'  # Replace with your file path\n",
    "sheet_name = 'Sheet1'  # Replace with your worksheet name\n",
    "df = pd.read_excel(file_path, sheet_name=sheet_name)\n",
    "print(df)"
   ]
  },
  {
   "cell_type": "code",
   "execution_count": 41,
   "id": "aa7c3ba7",
   "metadata": {},
   "outputs": [
    {
     "name": "stdout",
     "output_type": "stream",
     "text": [
      "7\n"
     ]
    }
   ],
   "source": [
    "# print(df)\n",
    "df = df.dropna(axis=1, how='all')\n",
    "scene_num = df.shape[1] - 1\n",
    "UAV_num = df.shape[0]\n",
    "print(scene_num)\n",
    "\n",
    "df_num = df.iloc[0:, 1:]\n",
    "df_num = df_num.astype(float)\n",
    "# print(df_num)"
   ]
  },
  {
   "cell_type": "code",
   "execution_count": null,
   "id": "643c0a43",
   "metadata": {},
   "outputs": [],
   "source": [
    "# normalisation parameter\n",
    "w_s_classic = classic_scene_weight / (classic_scene_weight * 3 + theory_scene_weight * (scene_num - 3))\n",
    "w_s_theory = theory_scene_weight / (classic_scene_weight * 3 + theory_scene_weight * (scene_num - 3))\n",
    "# print(w_s_classic , w_s_theory)\n",
    "w_U_real = real_UAV_weight / (real_UAV_weight * (UAV_num / 2) + visual_UAV_weight * (UAV_num / 2))\n",
    "w_U_visual = visual_UAV_weight / (real_UAV_weight * (UAV_num / 2) + visual_UAV_weight * (UAV_num / 2))\n",
    "# print(w_U_real , w_U_visual)"
   ]
  },
  {
   "cell_type": "code",
   "execution_count": null,
   "id": "fe6b68ae",
   "metadata": {},
   "outputs": [
    {
     "name": "stdout",
     "output_type": "stream",
     "text": [
      "[[0.1 0.2 0.  0.1 0.  0.  0. ]\n",
      " [0.1 0.2 0.  0.1 0.  0.  0. ]\n",
      " [0.1 0.2 0.  0.1 0.  0.  0. ]\n",
      " [0.1 0.2 0.  0.1 0.  0.  0. ]\n",
      " [0.1 0.2 0.  0.1 0.  0.  0. ]\n",
      " [0.1 0.2 0.  0.1 0.  0.  0. ]\n",
      " [0.1 0.2 0.  0.1 0.  0.  0. ]\n",
      " [0.1 0.2 0.  0.1 0.  0.  0. ]\n",
      " [0.1 0.2 0.  0.1 0.  0.  0. ]\n",
      " [0.1 0.2 0.  0.1 0.  0.  0. ]\n",
      " [0.1 0.2 0.  0.1 0.  0.  0. ]\n",
      " [0.1 0.2 0.  0.1 0.  0.  0. ]\n",
      " [0.1 0.2 0.  0.1 0.  0.  0. ]\n",
      " [0.1 0.2 0.  0.1 0.  0.  0. ]\n",
      " [0.1 0.2 0.  0.1 0.  0.  0. ]\n",
      " [0.1 0.2 0.  0.1 0.  0.  0. ]\n",
      " [0.1 0.2 0.  0.1 0.  0.  0. ]\n",
      " [0.1 0.2 0.  0.1 0.  0.  0. ]\n",
      " [0.1 0.2 0.  0.1 0.  0.  0. ]\n",
      " [0.1 0.2 0.  0.1 0.  0.  0. ]\n",
      " [0.1 0.2 0.  0.1 0.  0.  0. ]\n",
      " [0.1 0.2 0.  0.1 0.  0.  0. ]\n",
      " [0.1 0.2 0.  0.1 0.  0.  0. ]\n",
      " [0.1 0.2 0.  0.1 0.  0.  0. ]\n",
      " [0.1 0.2 0.  0.1 0.  0.  0. ]\n",
      " [0.1 0.2 0.  0.1 0.  0.  0. ]\n",
      " [0.1 0.2 0.  0.1 0.  0.  0. ]\n",
      " [0.1 0.2 0.  0.1 0.  0.  0. ]\n",
      " [0.1 0.2 0.  0.1 0.  0.  0. ]\n",
      " [0.1 0.2 0.  0.1 0.  0.  0. ]\n",
      " [0.1 0.2 0.  0.1 0.  0.  0. ]\n",
      " [0.1 0.2 0.  0.1 0.  0.  0. ]\n",
      " [0.1 0.2 0.  0.1 0.  0.  0. ]\n",
      " [0.1 0.2 0.  0.1 0.  0.  0. ]\n",
      " [0.1 0.2 0.  0.1 0.  0.  0. ]\n",
      " [0.1 0.2 0.  0.1 0.  0.  0. ]]\n"
     ]
    },
    {
     "name": "stderr",
     "output_type": "stream",
     "text": [
      "C:\\Users\\Administrator\\AppData\\Local\\Temp\\ipykernel_18972\\1843311770.py:28: FutureWarning: Series.__getitem__ treating keys as positions is deprecated. In a future version, integer keys will always be treated as labels (consistent with DataFrame behavior). To access a value by position, use `ser.iloc[pos]`\n",
      "  S[i][j] = df_num.iloc[i][j]\n"
     ]
    }
   ],
   "source": [
    "# Constructing the parameter matrix\n",
    "W_S = np.zeros((UAV_num, scene_num))\n",
    "W_UAV = np.zeros((UAV_num, scene_num))\n",
    "S = np.zeros((UAV_num, scene_num))\n",
    "\n",
    "R_or_not = np.zeros((UAV_num, 1))\n",
    "R_or_not[1] = R_or_not[5] = R_or_not[6] = R_or_not[8] = R_or_not[11] = R_or_not[12] = R_or_not[14] = R_or_not[16] = R_or_not[18] = R_or_not[20] = R_or_not[22] = R_or_not[24] = R_or_not[26] = R_or_not[27] = R_or_not[28] = R_or_not[31] = R_or_not[33] = R_or_not[35] =1\n",
    "\n",
    "\n",
    "for i in range(UAV_num):\n",
    "    for j in range(scene_num):\n",
    "        if j < 3:\n",
    "            W_S[i][j] = w_s_classic\n",
    "        else:\n",
    "            W_S[i][j] = w_s_theory\n",
    "            \n",
    "for i in range(UAV_num):\n",
    "    if R_or_not[i] == 1:\n",
    "        for j in range(scene_num):\n",
    "            W_UAV[i][j] = w_U_real\n",
    "    else:\n",
    "        for j in range(scene_num):\n",
    "            W_UAV[i][j] = w_U_visual\n",
    "            \n",
    "\n",
    "for i in range(UAV_num):\n",
    "    for j in range(scene_num):\n",
    "        S[i][j] = df_num.iloc[i][j]\n",
    "        \n",
    "print(S)"
   ]
  },
  {
   "cell_type": "code",
   "execution_count": 44,
   "id": "4a41d6f7",
   "metadata": {},
   "outputs": [
    {
     "name": "stdout",
     "output_type": "stream",
     "text": [
      "6.052631578947365\n",
      "0.005547091412742381\n",
      "5.9700713314324325\n"
     ]
    }
   ],
   "source": [
    "score_ = sum( sum( W_UAV * W_S * S ) ) / sum( sum( W_UAV * W_S ) )\n",
    "\n",
    "SCORE = score_ *100\n",
    "print(SCORE)\n",
    "\n",
    "VAR = sum( sum( W_UAV * W_S * (S - score_) * (S - score_) ) )\n",
    "\n",
    "print(VAR)\n",
    "\n",
    "final_score = SCORE * (1 - beta * VAR/0.122)\n",
    "print(final_score)"
   ]
  }
 ],
 "metadata": {
  "kernelspec": {
   "display_name": "graph",
   "language": "python",
   "name": "python3"
  },
  "language_info": {
   "codemirror_mode": {
    "name": "ipython",
    "version": 3
   },
   "file_extension": ".py",
   "mimetype": "text/x-python",
   "name": "python",
   "nbconvert_exporter": "python",
   "pygments_lexer": "ipython3",
   "version": "3.10.18"
  }
 },
 "nbformat": 4,
 "nbformat_minor": 5
}
